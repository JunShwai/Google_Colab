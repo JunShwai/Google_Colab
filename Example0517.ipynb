{
  "nbformat": 4,
  "nbformat_minor": 0,
  "metadata": {
    "colab": {
      "provenance": [],
      "authorship_tag": "ABX9TyNw/IF4vm3rHjdO22kZBRly",
      "include_colab_link": true
    },
    "kernelspec": {
      "name": "python3",
      "display_name": "Python 3"
    },
    "language_info": {
      "name": "python"
    }
  },
  "cells": [
    {
      "cell_type": "markdown",
      "metadata": {
        "id": "view-in-github",
        "colab_type": "text"
      },
      "source": [
        "<a href=\"https://colab.research.google.com/github/ShwaiR/Google_Colab/blob/main/Example0517.ipynb\" target=\"_parent\"><img src=\"https://colab.research.google.com/assets/colab-badge.svg\" alt=\"Open In Colab\"/></a>"
      ]
    },
    {
      "cell_type": "code",
      "execution_count": 6,
      "metadata": {
        "colab": {
          "base_uri": "https://localhost:8080/"
        },
        "id": "XpkeYkp_kT_b",
        "outputId": "1b45f105-3a5e-40b5-c8f2-cb0a197c7b15"
      },
      "outputs": [
        {
          "output_type": "stream",
          "name": "stdout",
          "text": [
            "請輸入數字:10\n",
            "請輸入除數:2\n",
            "10可以被2整除\n"
          ]
        }
      ],
      "source": [
        "#if判斷式練習\n",
        "#輸入X和Y兩個數字，判斷X是否可以被Y整除\n",
        "\n",
        "y = input(\"請輸入數字:\")\n",
        "n = input(\"請輸入除數:\")\n",
        "y = int(y)  #固定數字為整數\n",
        "n = int(n)\n",
        "\n",
        "if y%n==0:\n",
        "  print(str(y)+\"可以被\"+str(n)+\"整除\")"
      ]
    },
    {
      "cell_type": "code",
      "source": [
        "#多向式判斷 \n",
        "\n",
        "z=input(\"請輸入數字:\")\n",
        "z=int(z)  #固定數字為整數\n",
        "\n",
        "if z>200:\n",
        "  print(\"z大於200\")\n",
        "elif z>100:\n",
        "  print(\"z大於100，小於200\")\n",
        "else:\n",
        "  print(\"z小於100\")   "
      ],
      "metadata": {
        "colab": {
          "base_uri": "https://localhost:8080/"
        },
        "id": "-wIPUHPUkbzL",
        "outputId": "33f87859-4f62-47b3-8131-bbadbe11e8fd"
      },
      "execution_count": 29,
      "outputs": [
        {
          "output_type": "stream",
          "name": "stdout",
          "text": [
            "請輸入數字:100\n",
            "z小於100\n"
          ]
        }
      ]
    },
    {
      "cell_type": "code",
      "source": [
        "#多向式判斷-四則運算計算機\n",
        "n1=int(input(\"請輸入數字n1:\"))\n",
        "n2=int(input(\"請輸入數字n2:\"))\n",
        "op=input(\"請輸入運算的方式，可選+,-,*,/這四種:\")\n",
        "\n",
        "if op==\"+\":\n",
        "  print(n1+n2)\n",
        "elif op==\"-\":\n",
        "  print(n1-n2)\n",
        "elif op==\"*\":\n",
        "  print(n1*n2)\n",
        "elif op==\"/\":\n",
        "  print(n1/n2)\n",
        "else:\n",
        "  print(\"輸入錯誤\")"
      ],
      "metadata": {
        "colab": {
          "base_uri": "https://localhost:8080/"
        },
        "id": "cnyve0CenOVp",
        "outputId": "6c0ffafa-4129-4864-8c9c-efd45e6fa895"
      },
      "execution_count": 28,
      "outputs": [
        {
          "output_type": "stream",
          "name": "stdout",
          "text": [
            "請輸入數字n1:50\n",
            "請輸入數字n2:20\n",
            "請輸入運算的方式，可選+,-,*,/這四種:+\n",
            "70\n"
          ]
        }
      ]
    },
    {
      "cell_type": "code",
      "source": [
        "n=1\n",
        "while n<5:\n",
        "  print(n)\n",
        "  n=n+1"
      ],
      "metadata": {
        "colab": {
          "base_uri": "https://localhost:8080/"
        },
        "id": "KFbvoIaNof_a",
        "outputId": "84db68b1-3c8b-49a8-d26c-8e29ba690f63"
      },
      "execution_count": 45,
      "outputs": [
        {
          "output_type": "stream",
          "name": "stdout",
          "text": [
            "1\n",
            "2\n",
            "3\n",
            "4\n"
          ]
        }
      ]
    }
  ]
}