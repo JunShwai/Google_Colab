{
  "nbformat": 4,
  "nbformat_minor": 0,
  "metadata": {
    "colab": {
      "provenance": [],
      "authorship_tag": "ABX9TyPk8LdsLtW+VC9oHEF6IGfU",
      "include_colab_link": true
    },
    "kernelspec": {
      "name": "python3",
      "display_name": "Python 3"
    },
    "language_info": {
      "name": "python"
    }
  },
  "cells": [
    {
      "cell_type": "markdown",
      "metadata": {
        "id": "view-in-github",
        "colab_type": "text"
      },
      "source": [
        "<a href=\"https://colab.research.google.com/github/ShwaiR/Google_Colab/blob/main/Example0517.ipynb\" target=\"_parent\"><img src=\"https://colab.research.google.com/assets/colab-badge.svg\" alt=\"Open In Colab\"/></a>"
      ]
    },
    {
      "cell_type": "code",
      "execution_count": 6,
      "metadata": {
        "colab": {
          "base_uri": "https://localhost:8080/"
        },
        "id": "XpkeYkp_kT_b",
        "outputId": "1b45f105-3a5e-40b5-c8f2-cb0a197c7b15"
      },
      "outputs": [
        {
          "output_type": "stream",
          "name": "stdout",
          "text": [
            "請輸入數字:10\n",
            "請輸入除數:2\n",
            "10可以被2整除\n"
          ]
        }
      ],
      "source": [
        "#if判斷式練習\n",
        "#輸入X和Y兩個數字，判斷X是否可以被Y整除\n",
        "\n",
        "y = input(\"請輸入數字:\")\n",
        "n = input(\"請輸入除數:\")\n",
        "y = int(y)  #固定數字為整數\n",
        "n = int(n)\n",
        "\n",
        "if y%n==0:\n",
        "  print(str(y)+\"可以被\"+str(n)+\"整除\")"
      ]
    },
    {
      "cell_type": "code",
      "source": [
        "#多向式判斷 \n",
        "\n",
        "z = input(\"請輸入數字:\")\n",
        "z = int(z)  #固定數字為整數\n"
      ],
      "metadata": {
        "id": "-wIPUHPUkbzL"
      },
      "execution_count": null,
      "outputs": []
    }
  ]
}