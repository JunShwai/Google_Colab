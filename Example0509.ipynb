{
  "nbformat": 4,
  "nbformat_minor": 0,
  "metadata": {
    "colab": {
      "provenance": [],
      "authorship_tag": "ABX9TyMlSdoQbkcM7WECDC82yoiB",
      "include_colab_link": true
    },
    "kernelspec": {
      "name": "python3",
      "display_name": "Python 3"
    },
    "language_info": {
      "name": "python"
    }
  },
  "cells": [
    {
      "cell_type": "markdown",
      "metadata": {
        "id": "view-in-github",
        "colab_type": "text"
      },
      "source": [
        "<a href=\"https://colab.research.google.com/github/ShwaiR/Google_Colab/blob/main/Example0509.ipynb\" target=\"_parent\"><img src=\"https://colab.research.google.com/assets/colab-badge.svg\" alt=\"Open In Colab\"/></a>"
      ]
    },
    {
      "cell_type": "code",
      "execution_count": 1,
      "metadata": {
        "colab": {
          "base_uri": "https://localhost:8080/"
        },
        "id": "66A43oN6W663",
        "outputId": "73a8e66b-6889-456d-ec74-84730fe5b39d"
      },
      "outputs": [
        {
          "output_type": "stream",
          "name": "stdout",
          "text": [
            "8\n"
          ]
        }
      ],
      "source": [
        "print(len(\"95637+12\"))"
      ]
    },
    {
      "cell_type": "code",
      "source": [
        "a = 50\n",
        "print(a)"
      ],
      "metadata": {
        "colab": {
          "base_uri": "https://localhost:8080/"
        },
        "id": "RXwgXGOVXKht",
        "outputId": "b2990983-1226-4c70-f239-d8c299773c85"
      },
      "execution_count": 2,
      "outputs": [
        {
          "output_type": "stream",
          "name": "stdout",
          "text": [
            "50\n"
          ]
        }
      ]
    },
    {
      "cell_type": "code",
      "source": [
        "a = 1\n",
        "if a == 1:\n",
        "  print('a = 1')"
      ],
      "metadata": {
        "colab": {
          "base_uri": "https://localhost:8080/"
        },
        "id": "5Q2y1uPgXUw7",
        "outputId": "00756a0d-3bbb-498b-cba7-1313ac8aa949"
      },
      "execution_count": 4,
      "outputs": [
        {
          "output_type": "stream",
          "name": "stdout",
          "text": [
            "a = 1\n"
          ]
        }
      ]
    },
    {
      "cell_type": "code",
      "source": [
        "for x in[1,2,3,4,5]:\n",
        "  x = x * 2\n",
        "  print('x =',x)"
      ],
      "metadata": {
        "colab": {
          "base_uri": "https://localhost:8080/"
        },
        "id": "XlOJv06VXsEn",
        "outputId": "b06791c9-c3c6-4704-f5f7-be1c6fcf9141"
      },
      "execution_count": 7,
      "outputs": [
        {
          "output_type": "stream",
          "name": "stdout",
          "text": [
            "x = 2\n",
            "x = 4\n",
            "x = 6\n",
            "x = 8\n",
            "x = 10\n"
          ]
        }
      ]
    },
    {
      "cell_type": "code",
      "source": [
        "i = 0\n",
        "while i < 3:\n",
        "  print('simpleLearn')\n",
        "  i = i + 1"
      ],
      "metadata": {
        "colab": {
          "base_uri": "https://localhost:8080/"
        },
        "id": "twMaCS3BYNIQ",
        "outputId": "2d7f73f1-2087-4c80-8386-3b8c5115c434"
      },
      "execution_count": 8,
      "outputs": [
        {
          "output_type": "stream",
          "name": "stdout",
          "text": [
            "simpleLearn\n",
            "simpleLearn\n",
            "simpleLearn\n"
          ]
        }
      ]
    },
    {
      "cell_type": "code",
      "source": [
        "a = 1 + 2 + \\\n",
        "3 + 4 + 5 + \\\n",
        "6 + 7 + 8 + 9\n",
        "print(a)"
      ],
      "metadata": {
        "colab": {
          "base_uri": "https://localhost:8080/"
        },
        "id": "hLwUzW3Y4lOk",
        "outputId": "4eff44a2-6d1c-4469-a60d-b68b864de78e"
      },
      "execution_count": 1,
      "outputs": [
        {
          "output_type": "stream",
          "name": "stdout",
          "text": [
            "45\n"
          ]
        }
      ]
    },
    {
      "cell_type": "code",
      "source": [
        "#字串會對內部字元編號，從0開始\n",
        "b=\"安安\"\n",
        "b1=\"你好\"*3+\"!\" \n",
        "b2=\"今天天氣:\\n晴天\" \n",
        "print(b)\n",
        "print(b[0]) #取得變數b\n",
        "print(b1)\n",
        "print(b2)"
      ],
      "metadata": {
        "colab": {
          "base_uri": "https://localhost:8080/"
        },
        "id": "bZqgMJYT5khj",
        "outputId": "dc0c898a-f493-4358-fa92-084d7b067fc8"
      },
      "execution_count": 2,
      "outputs": [
        {
          "output_type": "stream",
          "name": "stdout",
          "text": [
            "安安\n",
            "安\n",
            "你好你好你好!\n",
            "今天天氣:\n",
            "晴天\n"
          ]
        }
      ]
    },
    {
      "cell_type": "code",
      "source": [
        "a = (1 + 2 + 3 +\n",
        "     4 + 5 + 6 +\n",
        "     7 + 8 + 9)\n",
        "colors = 'red','blue','green'\n",
        "print(a)\n",
        "print(colors)"
      ],
      "metadata": {
        "colab": {
          "base_uri": "https://localhost:8080/"
        },
        "id": "Ue-7IGtJ6Pur",
        "outputId": "76c69889-c2d4-4659-f9cd-d429979dd8d1"
      },
      "execution_count": 17,
      "outputs": [
        {
          "output_type": "stream",
          "name": "stdout",
          "text": [
            "45\n",
            "('red', 'blue', 'green')\n"
          ]
        }
      ]
    },
    {
      "cell_type": "code",
      "source": [
        "a = 1; b = 2; c = 3\n",
        "print(a);print(b);print(c)"
      ],
      "metadata": {
        "colab": {
          "base_uri": "https://localhost:8080/"
        },
        "id": "tes990rv7ALW",
        "outputId": "494d03e4-9ea5-4f63-ea73-3906072494ea"
      },
      "execution_count": 6,
      "outputs": [
        {
          "output_type": "stream",
          "name": "stdout",
          "text": [
            "1\n",
            "2\n",
            "3\n"
          ]
        }
      ]
    },
    {
      "cell_type": "code",
      "source": [
        "g={3,4,5}\n",
        "h={\"蘋果\",\"香蕉\",\"西瓜\"}\n",
        "\n",
        "print(\"蘋果\" in h)\n",
        " #印出True\n",
        "print(\"香蕉\"not in h)"
      ],
      "metadata": {
        "colab": {
          "base_uri": "https://localhost:8080/"
        },
        "id": "sBZN7Bua-e8H",
        "outputId": "1b18c059-84f2-4adb-b8bf-eebab95b3f4f"
      },
      "execution_count": 20,
      "outputs": [
        {
          "output_type": "stream",
          "name": "stdout",
          "text": [
            "True\n",
            "False\n"
          ]
        }
      ]
    },
    {
      "cell_type": "code",
      "source": [
        "g1={3,4,5}\n",
        "g2={5,6,7}\n",
        "\n",
        "print(g1 & g2) #交集：取重複值\n",
        "print(g1 - g2) #差集：從g1中取與s2取不重複值\n",
        "print(g1 | g2) #聯集：取全部資料且不重複\n",
        "print(g1 ^ g2) #反差集：取不重複值(扣除重複)"
      ],
      "metadata": {
        "colab": {
          "base_uri": "https://localhost:8080/"
        },
        "id": "L0dO6zXl-nP8",
        "outputId": "4173cd10-a80a-42e0-c548-06ce7dcd760e"
      },
      "execution_count": 22,
      "outputs": [
        {
          "output_type": "stream",
          "name": "stdout",
          "text": [
            "{5}\n",
            "{3, 4}\n",
            "{3, 4, 5, 6, 7}\n",
            "{3, 4, 6, 7}\n"
          ]
        }
      ]
    },
    {
      "cell_type": "code",
      "source": [
        "a = 6\n",
        "b = 3\n",
        "\n",
        "c = a + b\n",
        "d = a - b\n",
        "e = a * b\n",
        "f = a / b\n",
        "\n",
        "print('a + b =',c)\n",
        "print('a - b =',d)\n",
        "print('a * b =',e)\n",
        "print('a / b =',f)"
      ],
      "metadata": {
        "colab": {
          "base_uri": "https://localhost:8080/"
        },
        "id": "fTRlA4gthpZ4",
        "outputId": "421a7952-a7b9-4ae9-bb24-93dc64f4cef5"
      },
      "execution_count": 1,
      "outputs": [
        {
          "output_type": "stream",
          "name": "stdout",
          "text": [
            "a + b = 9\n",
            "a - b = 3\n",
            "a * b = 18\n",
            "a / b = 2.0\n"
          ]
        }
      ]
    },
    {
      "cell_type": "code",
      "source": [
        "s = 'hello'\n",
        "print(s)"
      ],
      "metadata": {
        "colab": {
          "base_uri": "https://localhost:8080/"
        },
        "id": "jnZbfOXjiRvS",
        "outputId": "befc5125-50c9-400b-d692-e179ada43528"
      },
      "execution_count": 3,
      "outputs": [
        {
          "output_type": "stream",
          "name": "stdout",
          "text": [
            "hello\n"
          ]
        }
      ]
    },
    {
      "cell_type": "code",
      "source": [
        "a = 6\n",
        "b = 3\n",
        "print(a > b)\n"
      ],
      "metadata": {
        "colab": {
          "base_uri": "https://localhost:8080/"
        },
        "id": "ONE6f9iHiZl9",
        "outputId": "a39ff36c-cc28-48a1-80f2-ef0e1a3fb19e"
      },
      "execution_count": 4,
      "outputs": [
        {
          "output_type": "stream",
          "name": "stdout",
          "text": [
            "True\n"
          ]
        }
      ]
    },
    {
      "cell_type": "code",
      "source": [
        "a = 2\n",
        "print('a =',a)\n",
        "print('a =',2)"
      ],
      "metadata": {
        "colab": {
          "base_uri": "https://localhost:8080/"
        },
        "id": "bD0kAm7Qirc0",
        "outputId": "320219d9-93e8-4095-ad7f-cbc9e0c89b76"
      },
      "execution_count": 7,
      "outputs": [
        {
          "output_type": "stream",
          "name": "stdout",
          "text": [
            "a = 2\n",
            "a = 2\n"
          ]
        }
      ]
    },
    {
      "cell_type": "code",
      "source": [
        "blue = 'blue藍色'\n",
        "print(blue)"
      ],
      "metadata": {
        "colab": {
          "base_uri": "https://localhost:8080/"
        },
        "id": "V_utw_qhhboe",
        "outputId": "32fe0907-6bee-41ab-b82b-a07dac332f77"
      },
      "execution_count": 1,
      "outputs": [
        {
          "output_type": "stream",
          "name": "stdout",
          "text": [
            "blue藍色\n"
          ]
        }
      ]
    },
    {
      "cell_type": "code",
      "source": [
        "red = 'red紅色'\n",
        "print(red)\n",
        "#指定一個新的變數\n",
        "red = '紅色'\n",
        "print(red)"
      ],
      "metadata": {
        "colab": {
          "base_uri": "https://localhost:8080/"
        },
        "id": "2NLozOtlh32o",
        "outputId": "0d30dd49-a32a-467a-d06b-9306755b6f78"
      },
      "execution_count": 2,
      "outputs": [
        {
          "output_type": "stream",
          "name": "stdout",
          "text": [
            "red紅色\n",
            "紅色\n"
          ]
        }
      ]
    },
    {
      "cell_type": "code",
      "source": [
        "#單行註解\n",
        "\n",
        "#多\n",
        "#行\n",
        "#註\n",
        "#解\n",
        "\n",
        "'''多行註解(單引號)'''\n",
        "\n",
        "\"\"\"多行註解(雙引號)\"\"\"\n",
        "print('hi')\n"
      ],
      "metadata": {
        "colab": {
          "base_uri": "https://localhost:8080/"
        },
        "id": "nRX4Ob74i1Is",
        "outputId": "91a0edff-2140-4ef1-e280-8d113f11c761"
      },
      "execution_count": 6,
      "outputs": [
        {
          "output_type": "stream",
          "name": "stdout",
          "text": [
            "hi\n"
          ]
        }
      ]
    }
  ]
}